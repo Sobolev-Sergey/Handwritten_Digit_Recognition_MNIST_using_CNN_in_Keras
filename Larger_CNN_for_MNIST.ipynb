{
 "cells": [
  {
   "cell_type": "markdown",
   "id": "republican-bristol",
   "metadata": {},
   "source": [
    "# Большая сверточная нейронная сеть для MNIST"
   ]
  },
  {
   "cell_type": "code",
   "execution_count": 1,
   "id": "religious-james",
   "metadata": {},
   "outputs": [],
   "source": [
    "# Larger CNN for the MNIST Dataset\n",
    "from keras.datasets import mnist\n",
    "from keras.models import Sequential\n",
    "from keras.layers import Dense\n",
    "from keras.layers import Dropout\n",
    "from keras.layers import Flatten\n",
    "from keras.layers.convolutional import Conv2D\n",
    "from keras.layers.convolutional import MaxPooling2D\n",
    "from keras.utils import np_utils\n",
    "\n",
    "# load data\n",
    "(X_train, y_train), (X_test, y_test) = mnist.load_data()\n",
    "\n",
    "# reshape to be [samples][width][height][channels]\n",
    "X_train = X_train.reshape((X_train.shape[0], 28, 28, 1)).astype('float32')\n",
    "X_test = X_test.reshape((X_test.shape[0], 28, 28, 1)).astype('float32')\n",
    "\n",
    "# normalize inputs from 0-255 to 0-1\n",
    "X_train = X_train / 255\n",
    "X_test = X_test / 255\n",
    "\n",
    "# one hot encode outputs\n",
    "y_train = np_utils.to_categorical(y_train)\n",
    "y_test = np_utils.to_categorical(y_test)\n",
    "num_classes = y_test.shape[1]"
   ]
  },
  {
   "cell_type": "markdown",
   "id": "infectious-wayne",
   "metadata": {},
   "source": [
    "- 1 - Сверточный слой с 30 картами характеристик размером 5 × 5.\n",
    "- 2 - Слой объединения, занимающий максимум 2 * 2 патча.\n",
    "- 3 - Сверточный слой с 15 картами характеристик размером 3 × 3.\n",
    "- 4 - Слой объединения, занимающий максимум 2 * 2 патча.\n",
    "- 5 - Выпадение слоя с вероятностью 20%.\n",
    "- 6 - Разровняйте слой.\n",
    "- 7 - Полностью связанный слой со 128 нейронами и активацией выпрямителя.\n",
    "- 8 - Полностью связанный слой с 50 нейронами и активацией выпрямителя.\n",
    "- 9 - Выходной слой."
   ]
  },
  {
   "cell_type": "code",
   "execution_count": 2,
   "id": "placed-means",
   "metadata": {},
   "outputs": [],
   "source": [
    "# define the larger model\n",
    "def larger_model():\n",
    "    # create model\n",
    "    model = Sequential()\n",
    "    model.add(Conv2D(30, (5, 5), input_shape=(28, 28, 1), activation='relu'))\n",
    "    model.add(MaxPooling2D())\n",
    "    model.add(Conv2D(15, (3, 3), activation='relu'))\n",
    "    model.add(MaxPooling2D())\n",
    "    model.add(Dropout(0.2))\n",
    "    model.add(Flatten())\n",
    "    model.add(Dense(128, activation='relu'))\n",
    "    model.add(Dense(50, activation='relu'))\n",
    "    model.add(Dense(num_classes, activation='softmax'))\n",
    "    # Compile model\n",
    "    model.compile(loss='categorical_crossentropy', optimizer='adam', metrics=['accuracy'])\n",
    "    return model"
   ]
  },
  {
   "cell_type": "markdown",
   "id": "indoor-johns",
   "metadata": {},
   "source": [
    "10 эпох с обновлением каждые 200 изображений."
   ]
  },
  {
   "cell_type": "code",
   "execution_count": 3,
   "id": "quick-georgia",
   "metadata": {},
   "outputs": [
    {
     "name": "stdout",
     "output_type": "stream",
     "text": [
      "Epoch 1/10\n",
      "300/300 [==============================] - 12s 41ms/step - loss: 0.3831 - accuracy: 0.8827 - val_loss: 0.0875 - val_accuracy: 0.9729\n",
      "Epoch 2/10\n",
      "300/300 [==============================] - 12s 41ms/step - loss: 0.0989 - accuracy: 0.9693 - val_loss: 0.0523 - val_accuracy: 0.9830\n",
      "Epoch 3/10\n",
      "300/300 [==============================] - 12s 40ms/step - loss: 0.0720 - accuracy: 0.9782 - val_loss: 0.0409 - val_accuracy: 0.9872\n",
      "Epoch 4/10\n",
      "300/300 [==============================] - 12s 40ms/step - loss: 0.0576 - accuracy: 0.9822 - val_loss: 0.0324 - val_accuracy: 0.9896\n",
      "Epoch 5/10\n",
      "300/300 [==============================] - 12s 41ms/step - loss: 0.0485 - accuracy: 0.9849 - val_loss: 0.0332 - val_accuracy: 0.9891\n",
      "Epoch 6/10\n",
      "300/300 [==============================] - 12s 40ms/step - loss: 0.0430 - accuracy: 0.9867 - val_loss: 0.0306 - val_accuracy: 0.9890\n",
      "Epoch 7/10\n",
      "300/300 [==============================] - 12s 40ms/step - loss: 0.0374 - accuracy: 0.9881 - val_loss: 0.0288 - val_accuracy: 0.9904\n",
      "Epoch 8/10\n",
      "300/300 [==============================] - 12s 40ms/step - loss: 0.0342 - accuracy: 0.9890 - val_loss: 0.0276 - val_accuracy: 0.9910\n",
      "Epoch 9/10\n",
      "300/300 [==============================] - 12s 40ms/step - loss: 0.0317 - accuracy: 0.9899 - val_loss: 0.0275 - val_accuracy: 0.9908\n",
      "Epoch 10/10\n",
      "300/300 [==============================] - 12s 40ms/step - loss: 0.0289 - accuracy: 0.9905 - val_loss: 0.0303 - val_accuracy: 0.9917\n",
      "Large CNN Error: 0.83%\n"
     ]
    }
   ],
   "source": [
    "# build the model\n",
    "model = larger_model()\n",
    "# Fit the model\n",
    "model.fit(X_train, y_train, validation_data=(X_test, y_test), epochs=10, batch_size=200)\n",
    "# Final evaluation of the model\n",
    "scores = model.evaluate(X_test, y_test, verbose=0)\n",
    "print(\"Large CNN Error: %.2f%%\" % (100-scores[1]*100))"
   ]
  },
  {
   "cell_type": "code",
   "execution_count": null,
   "id": "molecular-poland",
   "metadata": {},
   "outputs": [],
   "source": []
  }
 ],
 "metadata": {
  "kernelspec": {
   "display_name": "Python 3",
   "language": "python",
   "name": "python3"
  },
  "language_info": {
   "codemirror_mode": {
    "name": "ipython",
    "version": 3
   },
   "file_extension": ".py",
   "mimetype": "text/x-python",
   "name": "python",
   "nbconvert_exporter": "python",
   "pygments_lexer": "ipython3",
   "version": "3.8.8"
  }
 },
 "nbformat": 4,
 "nbformat_minor": 5
}
