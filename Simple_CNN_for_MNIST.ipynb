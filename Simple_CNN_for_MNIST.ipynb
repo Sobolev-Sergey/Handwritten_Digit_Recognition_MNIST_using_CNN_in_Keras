{
 "cells": [
  {
   "cell_type": "markdown",
   "id": "regulation-tyler",
   "metadata": {},
   "source": [
    "# Простая сверточная нейронная сеть для MNIST"
   ]
  },
  {
   "cell_type": "markdown",
   "id": "unusual-professor",
   "metadata": {},
   "source": [
    "Пример простой CNN для MNIST, которая демонстрирует сверточные уровни, уровни объединения и уровни исключения."
   ]
  },
  {
   "cell_type": "code",
   "execution_count": 1,
   "id": "executive-analyst",
   "metadata": {},
   "outputs": [],
   "source": [
    "# Simple CNN for the MNIST Dataset\n",
    "from keras.datasets import mnist\n",
    "from keras.models import Sequential\n",
    "from keras.layers import Dense\n",
    "from keras.layers import Dropout\n",
    "from keras.layers import Flatten\n",
    "from keras.layers.convolutional import Conv2D\n",
    "from keras.layers.convolutional import MaxPooling2D\n",
    "from keras.utils import np_utils"
   ]
  },
  {
   "cell_type": "markdown",
   "id": "matched-saying",
   "metadata": {},
   "source": [
    "Загружаем набор данных MNIST и изменяем его форму, чтобы он подходил для использования при обучении CNN. В Keras слои, используемые для двумерных сверток, ожидают значения пикселей с размерами [пиксели] [ширина] [высота] [каналы].\n",
    "\n",
    "В этом примере принудительно применяется так называемый порядок каналов по последнему каналу для единообразия.\n",
    "\n",
    "В случае RGB последние пиксели измерения будут равны 3 для красного, зеленого и синего компонентов, и это будет похоже на наличие 3 входов изображения для каждого цветного изображения. В случае MNIST, где значения пикселей представляют собой шкалу серого, размер пикселя устанавливается равным 1."
   ]
  },
  {
   "cell_type": "code",
   "execution_count": 2,
   "id": "intensive-belle",
   "metadata": {},
   "outputs": [],
   "source": [
    "# load data\n",
    "(X_train, y_train), (X_test, y_test) = mnist.load_data()\n",
    "\n",
    "# reshape to be [samples][width][height][channels]\n",
    "X_train = X_train.reshape((X_train.shape[0], 28, 28, 1)).astype('float32')\n",
    "X_test = X_test.reshape((X_test.shape[0], 28, 28, 1)).astype('float32')"
   ]
  },
  {
   "cell_type": "markdown",
   "id": "electronic-thing",
   "metadata": {},
   "source": [
    "Нормализация значения пикселей в диапазоне от 0 до 1 и горячее кодирование выходных переменных."
   ]
  },
  {
   "cell_type": "code",
   "execution_count": 3,
   "id": "thirty-summit",
   "metadata": {},
   "outputs": [],
   "source": [
    "# normalize inputs from 0-255 to 0-1\n",
    "X_train = X_train / 255\n",
    "X_test = X_test / 255\n",
    "\n",
    "# one hot encode outputs\n",
    "y_train = np_utils.to_categorical(y_train)\n",
    "y_test = np_utils.to_categorical(y_test)\n",
    "num_classes = y_test.shape[1]"
   ]
  },
  {
   "cell_type": "markdown",
   "id": "assisted-carol",
   "metadata": {},
   "source": [
    "Сетевая архитектура.\n",
    "\n",
    "- 1 - Скрытый слой - это сверточный слой, называемый Convolution2D. Слой имеет 32 карты характеристик размером 5 × 5 и функцию активации выпрямителя. Это входной слой, ожидающий изображений с контуром структуры [пикселей] [ширина] [высота].\n",
    "\n",
    "- 2 - Уровень пула, который принимает максимум, который называется MaxPooling2D. Он сконфигурирован с размером пула 2 × 2.\n",
    "\n",
    "- 3 - Уровень регуляризации, использующий выпадение, называемый Dropout. Он настроен на случайное исключение 20% нейронов в слое, чтобы уменьшить переобучение.\n",
    "\n",
    "- 4 - Далее идет слой, который преобразует данные 2D-матрицы в вектор, называемый Flatten. Это позволяет обрабатывать выходные данные стандартными полносвязными слоями.\n",
    "\n",
    "- 5 - Полно-связанный слой со 128 нейронами и функцией активации выпрямителя.\n",
    "\n",
    "- 6 - Выходной слой имеет 10 нейронов для 10 классов и функцию активации softmax для вывода вероятностных прогнозов для каждого класса.\n",
    "\n",
    "Модель обучается с использованием логарифмических потерь loss='categorical_crossentropy' и алгоритма градиентного спуска ADAM."
   ]
  },
  {
   "cell_type": "code",
   "execution_count": 4,
   "id": "genetic-mauritius",
   "metadata": {},
   "outputs": [],
   "source": [
    "# define a simple CNN model\n",
    "def baseline_model():\n",
    "    # create model\n",
    "    model = Sequential()\n",
    "    model.add(Conv2D(32, (5, 5), input_shape=(28, 28, 1), activation='relu'))\n",
    "    model.add(MaxPooling2D())\n",
    "    model.add(Dropout(0.2))\n",
    "    model.add(Flatten())\n",
    "    model.add(Dense(128, activation='relu'))\n",
    "    model.add(Dense(num_classes, activation='softmax'))\n",
    "    # Compile model\n",
    "    model.compile(loss='categorical_crossentropy', optimizer='adam', metrics=['accuracy'])\n",
    "    return model"
   ]
  },
  {
   "cell_type": "markdown",
   "id": "criminal-sleep",
   "metadata": {},
   "source": [
    "Оценивается модель многослойным персептроном. Рассчитана на 10 эпох с обновлением каждые 200 изображений."
   ]
  },
  {
   "cell_type": "code",
   "execution_count": 5,
   "id": "alone-technician",
   "metadata": {},
   "outputs": [
    {
     "name": "stdout",
     "output_type": "stream",
     "text": [
      "Epoch 1/10\n",
      "300/300 [==============================] - 11s 37ms/step - loss: 0.2381 - accuracy: 0.9309 - val_loss: 0.0748 - val_accuracy: 0.9773\n",
      "Epoch 2/10\n",
      "300/300 [==============================] - 11s 36ms/step - loss: 0.0733 - accuracy: 0.9781 - val_loss: 0.0540 - val_accuracy: 0.9828\n",
      "Epoch 3/10\n",
      "300/300 [==============================] - 11s 36ms/step - loss: 0.0533 - accuracy: 0.9835 - val_loss: 0.0442 - val_accuracy: 0.9856\n",
      "Epoch 4/10\n",
      "300/300 [==============================] - 11s 36ms/step - loss: 0.0417 - accuracy: 0.9872 - val_loss: 0.0376 - val_accuracy: 0.9880\n",
      "Epoch 5/10\n",
      "300/300 [==============================] - 11s 36ms/step - loss: 0.0359 - accuracy: 0.9891 - val_loss: 0.0365 - val_accuracy: 0.9867\n",
      "Epoch 6/10\n",
      "300/300 [==============================] - 11s 37ms/step - loss: 0.0279 - accuracy: 0.9912 - val_loss: 0.0322 - val_accuracy: 0.9887\n",
      "Epoch 7/10\n",
      "300/300 [==============================] - 11s 36ms/step - loss: 0.0236 - accuracy: 0.9923 - val_loss: 0.0355 - val_accuracy: 0.9872\n",
      "Epoch 8/10\n",
      "300/300 [==============================] - 11s 36ms/step - loss: 0.0201 - accuracy: 0.9934 - val_loss: 0.0307 - val_accuracy: 0.9894\n",
      "Epoch 9/10\n",
      "300/300 [==============================] - 11s 36ms/step - loss: 0.0180 - accuracy: 0.9942 - val_loss: 0.0306 - val_accuracy: 0.9904\n",
      "Epoch 10/10\n",
      "300/300 [==============================] - 11s 36ms/step - loss: 0.0132 - accuracy: 0.9958 - val_loss: 0.0322 - val_accuracy: 0.9895\n",
      "CNN Error: 1.05%\n"
     ]
    }
   ],
   "source": [
    "# build the model\n",
    "model = baseline_model()\n",
    "# Fit the model\n",
    "model.fit(X_train, y_train, validation_data=(X_test, y_test), epochs=10, batch_size=200)\n",
    "# Final evaluation of the model\n",
    "scores = model.evaluate(X_test, y_test, verbose=0)\n",
    "print(\"CNN Error: %.2f%%\" % (100-scores[1]*100))"
   ]
  },
  {
   "cell_type": "code",
   "execution_count": null,
   "id": "pressing-international",
   "metadata": {},
   "outputs": [],
   "source": []
  }
 ],
 "metadata": {
  "kernelspec": {
   "display_name": "Python 3",
   "language": "python",
   "name": "python3"
  },
  "language_info": {
   "codemirror_mode": {
    "name": "ipython",
    "version": 3
   },
   "file_extension": ".py",
   "mimetype": "text/x-python",
   "name": "python",
   "nbconvert_exporter": "python",
   "pygments_lexer": "ipython3",
   "version": "3.8.8"
  }
 },
 "nbformat": 4,
 "nbformat_minor": 5
}
