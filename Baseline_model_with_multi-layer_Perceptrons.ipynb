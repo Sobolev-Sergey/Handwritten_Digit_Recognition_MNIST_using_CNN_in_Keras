{
 "cells": [
  {
   "cell_type": "markdown",
   "id": "satisfied-harassment",
   "metadata": {},
   "source": [
    "# Базовая модель с многослойным персептроном"
   ]
  },
  {
   "cell_type": "markdown",
   "id": "unusual-league",
   "metadata": {},
   "source": [
    "Простая многослойная модель персептрона."
   ]
  },
  {
   "cell_type": "code",
   "execution_count": 1,
   "id": "accomplished-evening",
   "metadata": {},
   "outputs": [],
   "source": [
    "from keras.datasets import mnist\n",
    "from keras.models import Sequential\n",
    "from keras.layers import Dense\n",
    "from keras.layers import Dropout\n",
    "from keras.utils import np_utils"
   ]
  },
  {
   "cell_type": "markdown",
   "id": "optimum-routine",
   "metadata": {},
   "source": [
    "Загрузка набора данных MNIST с помощью вспомогательной функции Keras."
   ]
  },
  {
   "cell_type": "code",
   "execution_count": 2,
   "id": "behind-retailer",
   "metadata": {},
   "outputs": [],
   "source": [
    "# load data\n",
    "(X_train, y_train), (X_test, y_test) = mnist.load_data()"
   ]
  },
  {
   "cell_type": "markdown",
   "id": "scenic-monday",
   "metadata": {},
   "source": [
    "Делаем преобразование каждого изображения 28*28 до вектора пикселей 784\n",
    "([[ 1 , 2 , 3 ],  [ 4 , 5 , 6 ]])  -> ([1, 2, 3, 4, 5, 6])\n",
    "Уменьшаем наши требования к памяти, установив точность значений пикселей на 32 бита"
   ]
  },
  {
   "cell_type": "code",
   "execution_count": 3,
   "id": "pointed-truth",
   "metadata": {},
   "outputs": [],
   "source": [
    "# flatten 28*28 images to a 784 vector for each image\n",
    "num_pixels = X_train.shape[1] * X_train.shape[2]\n",
    "X_train = X_train.reshape((X_train.shape[0], num_pixels)).astype('float32')\n",
    "X_test = X_test.reshape((X_test.shape[0], num_pixels)).astype('float32')"
   ]
  },
  {
   "cell_type": "markdown",
   "id": "reserved-antarctica",
   "metadata": {},
   "source": [
    "Значения пикселей представляют собой шкалу серого от 0 до 255. Делаем масштабирование входных значений, нормализовав значения пикселей до диапазона 0 и 1, разделив каждое значение на максимальное значение 255."
   ]
  },
  {
   "cell_type": "code",
   "execution_count": 4,
   "id": "established-cartoon",
   "metadata": {},
   "outputs": [],
   "source": [
    "# normalize inputs from 0-255 to 0-1\n",
    "X_train = X_train / 255\n",
    "X_test = X_test / 255"
   ]
  },
  {
   "cell_type": "markdown",
   "id": "restricted-slovenia",
   "metadata": {},
   "source": [
    "Выходная переменная представляет собой целое число от 0 до 9. Используем однократное горячее кодирование значений класса, преобразуя вектор целых чисел класса в двоичную матрицу."
   ]
  },
  {
   "cell_type": "code",
   "execution_count": 5,
   "id": "precious-ranch",
   "metadata": {},
   "outputs": [],
   "source": [
    "# one hot encode outputs\n",
    "y_train = np_utils.to_categorical(y_train)\n",
    "y_test = np_utils.to_categorical(y_test)\n",
    "num_classes = y_test.shape[1]"
   ]
  },
  {
   "cell_type": "markdown",
   "id": "conservative-benchmark",
   "metadata": {},
   "source": [
    "Создаем простую модель нейронной сети."
   ]
  },
  {
   "cell_type": "code",
   "execution_count": 6,
   "id": "prompt-retro",
   "metadata": {},
   "outputs": [],
   "source": [
    "# define baseline model\n",
    "def baseline_model():\n",
    "    \n",
    "    # create model\n",
    "    model = Sequential()\n",
    "    model.add(Dense(num_pixels, input_dim=num_pixels, kernel_initializer='normal', activation='relu'))\n",
    "    model.add(Dense(num_classes, kernel_initializer='normal', activation='softmax'))\n",
    "\n",
    "    # Compile model\n",
    "    model.compile(loss='categorical_crossentropy', optimizer='adam', metrics=['accuracy'])\n",
    "    \n",
    "    return model"
   ]
  },
  {
   "cell_type": "markdown",
   "id": "egyptian-directory",
   "metadata": {},
   "source": [
    "Модель представляет собой простую нейронную сеть с одним скрытым слоем с тем же количеством нейронов, что и на входе (784). Для нейронов скрытого слоя используется функция активации выпрямителя.\n",
    "\n",
    "Функция активации softmax используется на выходном слое для преобразования выходных данных в вероятностные значения и позволяет выбрать один класс из 10 в качестве прогнозирования выходных данных модели. Логарифмические потери используются в качестве функции потерь (loss='categorical_crossentropy'), а эффективный алгоритм градиентного спуска ADAM используется для изучения весов.\n",
    "\n",
    "Модель рассчитана на 10 эпох с обновлением каждые 200 изображений. Тестовые данные используются в качестве набора данных для проверки, что позволяет увидеть навыки модели в процессе ее обучения. Подробное значение 2 используется для уменьшения вывода до одной строки для каждой эпохи обучения."
   ]
  },
  {
   "cell_type": "code",
   "execution_count": 7,
   "id": "finnish-nancy",
   "metadata": {},
   "outputs": [
    {
     "name": "stdout",
     "output_type": "stream",
     "text": [
      "Epoch 1/10\n",
      "300/300 - 1s - loss: 0.2818 - accuracy: 0.9194 - val_loss: 0.1400 - val_accuracy: 0.9579\n",
      "Epoch 2/10\n",
      "300/300 - 1s - loss: 0.1108 - accuracy: 0.9686 - val_loss: 0.0989 - val_accuracy: 0.9715\n",
      "Epoch 3/10\n",
      "300/300 - 1s - loss: 0.0718 - accuracy: 0.9791 - val_loss: 0.0770 - val_accuracy: 0.9764\n",
      "Epoch 4/10\n",
      "300/300 - 1s - loss: 0.0505 - accuracy: 0.9855 - val_loss: 0.0765 - val_accuracy: 0.9756\n",
      "Epoch 5/10\n",
      "300/300 - 1s - loss: 0.0375 - accuracy: 0.9890 - val_loss: 0.0683 - val_accuracy: 0.9783\n",
      "Epoch 6/10\n",
      "300/300 - 1s - loss: 0.0265 - accuracy: 0.9929 - val_loss: 0.0613 - val_accuracy: 0.9802\n",
      "Epoch 7/10\n",
      "300/300 - 1s - loss: 0.0199 - accuracy: 0.9947 - val_loss: 0.0629 - val_accuracy: 0.9796\n",
      "Epoch 8/10\n",
      "300/300 - 1s - loss: 0.0142 - accuracy: 0.9968 - val_loss: 0.0604 - val_accuracy: 0.9822\n",
      "Epoch 9/10\n",
      "300/300 - 1s - loss: 0.0101 - accuracy: 0.9980 - val_loss: 0.0577 - val_accuracy: 0.9830\n",
      "Epoch 10/10\n",
      "300/300 - 1s - loss: 0.0079 - accuracy: 0.9986 - val_loss: 0.0584 - val_accuracy: 0.9823\n",
      "Baseline Error: 1.77%\n"
     ]
    }
   ],
   "source": [
    "# build the model\n",
    "model = baseline_model()\n",
    "\n",
    "# Fit the model\n",
    "model.fit(X_train, y_train, validation_data=(X_test, y_test), epochs=10, batch_size=200, verbose=2)\n",
    "\n",
    "# Final evaluation of the model\n",
    "scores = model.evaluate(X_test, y_test, verbose=0)\n",
    "print(\"Baseline Error: %.2f%%\" % (100-scores[1]*100))"
   ]
  },
  {
   "cell_type": "code",
   "execution_count": null,
   "id": "young-switzerland",
   "metadata": {},
   "outputs": [],
   "source": []
  }
 ],
 "metadata": {
  "kernelspec": {
   "display_name": "Python 3",
   "language": "python",
   "name": "python3"
  },
  "language_info": {
   "codemirror_mode": {
    "name": "ipython",
    "version": 3
   },
   "file_extension": ".py",
   "mimetype": "text/x-python",
   "name": "python",
   "nbconvert_exporter": "python",
   "pygments_lexer": "ipython3",
   "version": "3.8.8"
  }
 },
 "nbformat": 4,
 "nbformat_minor": 5
}
